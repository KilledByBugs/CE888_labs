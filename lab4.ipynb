{
  "nbformat": 4,
  "nbformat_minor": 0,
  "metadata": {
    "colab": {
      "name": "“Untitled0.ipynb”的副本",
      "provenance": [],
      "authorship_tag": "ABX9TyMvCfNXP1pc3xDV4GraeKBk",
      "include_colab_link": true
    },
    "kernelspec": {
      "name": "python3",
      "display_name": "Python 3"
    }
  },
  "cells": [
    {
      "cell_type": "markdown",
      "metadata": {
        "id": "view-in-github",
        "colab_type": "text"
      },
      "source": [
        "<a href=\"https://colab.research.google.com/github/KilledByBugs/CE888_labs/blob/main/lab4.ipynb\" target=\"_parent\"><img src=\"https://colab.research.google.com/assets/colab-badge.svg\" alt=\"Open In Colab\"/></a>"
      ]
    },
    {
      "cell_type": "code",
      "metadata": {
        "id": "kNM1_3r9DZId",
        "colab": {
          "base_uri": "https://localhost:8080/"
        },
        "outputId": "d3dd6ea9-537e-40c6-c57c-0b6a9e798e78"
      },
      "source": [
        "import matplotlib\r\n",
        "import pandas as pd\r\n",
        "import seaborn as sns\r\n",
        "import numpy as np\r\n",
        "\r\n",
        "#  Load the data from ``jester-data-1.csv'',\r\n",
        "df = pd.read_csv('https://raw.githubusercontent.com/albanda/CE888/master/lab4-recommender/jester-data-1.csv')\r\n",
        "print(df)\r\n",
        "\r\n",
        "arr = df.values\r\n",
        "\r\n",
        "# Check the dataset description to figure out which value you should replace with NaNs (the cells for which we don't have a rating). This is the test set.\r\n",
        "\r\n",
        "ratedArr = df.replace(99, np.NaN)\r\n",
        "\r\n",
        "#There's a column you need to remove because it doesn't contain ratings. Check the description of the dataset and figure out which one. Then drop it.\r\n",
        "\r\n",
        "ratedArr = ratedArr.drop('74', axis=1)\r\n",
        "print(ratedArr)\r\n",
        "\r\n",
        "\r\n",
        "rated = np.where(arr!=99)\r\n",
        "print(len(rated[0]), rated[1].shape)\r\n",
        "\r\n",
        "\r\n",
        "def replace(orig, percentage=0.1):\r\n",
        "  \"\"\"\r\n",
        "  Replaces 'percentage'% of the original values in 'orig' with 99's\r\n",
        "  :param orig: original data array\r\n",
        "  :param percentage: percentage of values to replace (0<percentage<1)\r\n",
        "  \"\"\"\r\n",
        "  new_data = orig.copy()\r\n",
        "  arrIsNaN = np.isnan(new_data)\r\n",
        "  rated = np.where(arrIsNaN==False)\r\n",
        "  n_rated = len(rated[0])\r\n",
        "  idx = np.random.choice(n_rated, size=int(percentage*n_rated), replace=False)\r\n",
        "  new_data[rated[0][idx], rated[1][idx]] = 99\r\n",
        "  return new_data, (rated[0][idx], rated[1][idx])\r\n",
        "\r\n",
        "#remove first column because it's the number how many users rated. \r\n"
      ],
      "execution_count": null,
      "outputs": [
        {
          "output_type": "stream",
          "text": [
            "        74  -7.82   8.79  -9.66  -8.16  ...  99.22  -5.63  99.23  99.24  99.25\n",
            "0      100   4.08  -0.29   6.36   4.37  ...  -2.14   3.06   0.34  -4.32   1.07\n",
            "1       49  99.00  99.00  99.00  99.00  ...  99.00  99.00  99.00  99.00  99.00\n",
            "2       48  99.00   8.35  99.00  99.00  ...  99.00  99.00  99.00  99.00  99.00\n",
            "3       91   8.50   4.61  -4.17  -5.39  ...   1.55   3.11   6.55   1.80   1.60\n",
            "4      100  -6.17  -3.54   0.44  -8.50  ...  -3.35   0.05  -9.08  -5.05  -3.45\n",
            "...    ...    ...    ...    ...    ...  ...    ...    ...    ...    ...    ...\n",
            "24977  100   0.44   7.43   9.08   2.33  ...   9.03   6.55   8.69   8.79   7.43\n",
            "24978   91   9.13  -8.16   8.59   9.08  ...  -8.20  -7.23  -8.59   9.13   8.45\n",
            "24979   39  99.00  99.00  99.00  99.00  ...  99.00  99.00  99.00  99.00  99.00\n",
            "24980   37  99.00  99.00  99.00  99.00  ...  99.00  99.00  99.00  99.00  99.00\n",
            "24981   72   2.43   2.67  -3.98   4.27  ...  99.00  99.00  99.00  99.00  99.00\n",
            "\n",
            "[24982 rows x 101 columns]\n",
            "       -7.82  8.79  -9.66  -8.16  -7.52  ...  99.22  -5.63  99.23  99.24  99.25\n",
            "0       4.08 -0.29   6.36   4.37  -2.38  ...  -2.14   3.06   0.34  -4.32   1.07\n",
            "1        NaN   NaN    NaN    NaN   9.03  ...    NaN    NaN    NaN    NaN    NaN\n",
            "2        NaN  8.35    NaN    NaN   1.80  ...    NaN    NaN    NaN    NaN    NaN\n",
            "3       8.50  4.61  -4.17  -5.39   1.36  ...   1.55   3.11   6.55   1.80   1.60\n",
            "4      -6.17 -3.54   0.44  -8.50  -7.09  ...  -3.35   0.05  -9.08  -5.05  -3.45\n",
            "...      ...   ...    ...    ...    ...  ...    ...    ...    ...    ...    ...\n",
            "24977   0.44  7.43   9.08   2.33   3.20  ...   9.03   6.55   8.69   8.79   7.43\n",
            "24978   9.13 -8.16   8.59   9.08   0.87  ...  -8.20  -7.23  -8.59   9.13   8.45\n",
            "24979    NaN   NaN    NaN    NaN  -7.77  ...    NaN    NaN    NaN    NaN    NaN\n",
            "24980    NaN   NaN    NaN    NaN  -9.71  ...    NaN    NaN    NaN    NaN    NaN\n",
            "24981   2.43  2.67  -3.98   4.27  -2.28  ...    NaN    NaN    NaN    NaN    NaN\n",
            "\n",
            "[24982 rows x 100 columns]\n",
            "1835282 (1835282,)\n"
          ],
          "name": "stdout"
        }
      ]
    }
  ]
}