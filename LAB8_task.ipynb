{
  "nbformat": 4,
  "nbformat_minor": 0,
  "metadata": {
    "colab": {
      "name": "LAB8_task.ipynb",
      "provenance": [],
      "collapsed_sections": [],
      "authorship_tag": "ABX9TyPaiKNVNtiYytAWWgV+75qy",
      "include_colab_link": true
    },
    "kernelspec": {
      "name": "python3",
      "display_name": "Python 3"
    },
    "accelerator": "GPU"
  },
  "cells": [
    {
      "cell_type": "markdown",
      "metadata": {
        "id": "view-in-github",
        "colab_type": "text"
      },
      "source": [
        "<a href=\"https://colab.research.google.com/github/KilledByBugs/CE888_labs/blob/main/LAB8_task.ipynb\" target=\"_parent\"><img src=\"https://colab.research.google.com/assets/colab-badge.svg\" alt=\"Open In Colab\"/></a>"
      ]
    },
    {
      "cell_type": "code",
      "metadata": {
        "colab": {
          "base_uri": "https://localhost:8080/"
        },
        "id": "SNJTw2OTQVn8",
        "outputId": "fbe79b9c-decb-425d-ce0a-3b63fc2b6aac"
      },
      "source": [
        "!wget = \"https://github.com/sagihaider/CE888_2021/raw/main/Lab_8/data.zip\""
      ],
      "execution_count": 1,
      "outputs": [
        {
          "output_type": "stream",
          "text": [
            "--2021-03-12 13:24:40--  http://=/\n",
            "Resolving = (=)... failed: Name or service not known.\n",
            "wget: unable to resolve host address ‘=’\n",
            "--2021-03-12 13:24:40--  https://github.com/sagihaider/CE888_2021/raw/main/Lab_8/data.zip\n",
            "Resolving github.com (github.com)... 140.82.112.4\n",
            "Connecting to github.com (github.com)|140.82.112.4|:443... connected.\n",
            "HTTP request sent, awaiting response... 302 Found\n",
            "Location: https://raw.githubusercontent.com/sagihaider/CE888_2021/main/Lab_8/data.zip [following]\n",
            "--2021-03-12 13:24:40--  https://raw.githubusercontent.com/sagihaider/CE888_2021/main/Lab_8/data.zip\n",
            "Resolving raw.githubusercontent.com (raw.githubusercontent.com)... 185.199.108.133, 185.199.109.133, 185.199.110.133, ...\n",
            "Connecting to raw.githubusercontent.com (raw.githubusercontent.com)|185.199.108.133|:443... connected.\n",
            "HTTP request sent, awaiting response... 200 OK\n",
            "Length: 20194537 (19M) [application/zip]\n",
            "Saving to: ‘data.zip’\n",
            "\n",
            "data.zip            100%[===================>]  19.26M  --.-KB/s    in 0.1s    \n",
            "\n",
            "2021-03-12 13:24:41 (162 MB/s) - ‘data.zip’ saved [20194537/20194537]\n",
            "\n",
            "FINISHED --2021-03-12 13:24:41--\n",
            "Total wall clock time: 0.3s\n",
            "Downloaded: 1 files, 19M in 0.1s (162 MB/s)\n"
          ],
          "name": "stdout"
        }
      ]
    },
    {
      "cell_type": "code",
      "metadata": {
        "colab": {
          "base_uri": "https://localhost:8080/"
        },
        "id": "52MFQjiARne4",
        "outputId": "a0df17a8-bb4a-408f-f81f-6df8b533563d"
      },
      "source": [
        "# Unzip training data\r\n",
        "from zipfile import ZipFile\r\n",
        "file_name = \"/content/data.zip\"\r\n",
        "with ZipFile(file_name, 'r') as zip:\r\n",
        "  zip.extractall()\r\n",
        "  print('done')"
      ],
      "execution_count": 2,
      "outputs": [
        {
          "output_type": "stream",
          "text": [
            "done\n"
          ],
          "name": "stdout"
        }
      ]
    },
    {
      "cell_type": "code",
      "metadata": {
        "colab": {
          "base_uri": "https://localhost:8080/"
        },
        "id": "Zl2j-_MBR3bP",
        "outputId": "9bb3e0f4-e004-4d9f-a279-564bb1305043"
      },
      "source": [
        "import os\r\n",
        "\r\n",
        "for name in [\"cats\",\"dogs\",\"Humans\",\"horses\"]:\r\n",
        "  # Get all the paths\r\n",
        "  data_dir_list = os.listdir('/content/data/'+ name)\r\n",
        "  #print(data_dir_list)\r\n",
        "  path, dirs, files = next(os.walk(\"/content/data/\"+name))\r\n",
        "  file_count = len(files)\r\n",
        "  print(file_count)"
      ],
      "execution_count": 3,
      "outputs": [
        {
          "output_type": "stream",
          "text": [
            "202\n",
            "202\n",
            "202\n",
            "202\n"
          ],
          "name": "stdout"
        }
      ]
    },
    {
      "cell_type": "code",
      "metadata": {
        "id": "LRDff-XdX_6R"
      },
      "source": [
        "# Make new base directory\r\n",
        "original_dataset_dir = '/content/data' #GUANNAN: this will change later\r\n",
        "base_dir = '/content/cats_dogs_humans_and_horses'\r\n",
        "os.mkdir(base_dir)"
      ],
      "execution_count": 4,
      "outputs": []
    },
    {
      "cell_type": "code",
      "metadata": {
        "id": "rVEroEKBYico"
      },
      "source": [
        "train_dir = os.path.join(base_dir, 'train')\r\n",
        "os.mkdir(train_dir)\r\n",
        "\r\n",
        "validation_dir = os.path.join(base_dir, 'validation')\r\n",
        "os.mkdir(validation_dir)\r\n",
        "\r\n",
        "test_dir = os.path.join(base_dir, 'test')\r\n",
        "os.mkdir(test_dir)"
      ],
      "execution_count": 5,
      "outputs": []
    },
    {
      "cell_type": "code",
      "metadata": {
        "id": "lTFZDXCYYozQ"
      },
      "source": [
        "import shutil\r\n",
        "\r\n",
        "original_dataset_dir = '/content/data/cats'\r\n",
        "fnames = ['cat.{}.jpg'.format(i) for i in range(1, 67)]\r\n",
        "for fname in fnames:\r\n",
        "    src = os.path.join(original_dataset_dir, fname)\r\n",
        "    dst = os.path.join(train_dir, fname)\r\n",
        "    #print(src,dst)\r\n",
        "    shutil.copyfile(src, dst)\r\n",
        "    \r\n",
        "fnames = ['cat.{}.jpg'.format(i) for i in range(68, 134)]\r\n",
        "for fname in fnames:\r\n",
        "    src = os.path.join(original_dataset_dir, fname)\r\n",
        "    dst = os.path.join(validation_dir, fname)\r\n",
        "    shutil.copyfile(src, dst)\r\n",
        "\r\n",
        "fnames = ['cat.{}.jpg'.format(i) for i in range(135, 203)]\r\n",
        "for fname in fnames:\r\n",
        "    src = os.path.join(original_dataset_dir, fname)\r\n",
        "    dst = os.path.join(test_dir, fname)\r\n",
        "    shutil.copyfile(src, dst)\r\n",
        "    \r\n",
        "original_dataset_dir = '/content/data/dogs'\r\n",
        "fnames = ['dog.{}.jpg'.format(i) for i in range(1, 67)]\r\n",
        "for fname in fnames:\r\n",
        "    src = os.path.join(original_dataset_dir, fname)\r\n",
        "    dst = os.path.join(train_dir, fname)\r\n",
        "    shutil.copyfile(src, dst)\r\n",
        "\r\n",
        "fnames = ['dog.{}.jpg'.format(i) for i in range(68, 134)]\r\n",
        "for fname in fnames:\r\n",
        "    src = os.path.join(original_dataset_dir, fname)\r\n",
        "    dst = os.path.join(validation_dir, fname)\r\n",
        "    shutil.copyfile(src, dst)\r\n",
        "\r\n",
        "fnames = ['dog.{}.jpg'.format(i) for i in range(135, 203)]\r\n",
        "for fname in fnames:\r\n",
        "    src = os.path.join(original_dataset_dir, fname)\r\n",
        "    dst = os.path.join(test_dir, fname)\r\n",
        "    shutil.copyfile(src, dst)\r\n",
        "\r\n",
        "original_dataset_dir = '/content/data/Humans'\r\n",
        "fnames = ['rider-{}.jpg'.format(i) for i in range(1, 67)]\r\n",
        "for fname in fnames:\r\n",
        "    src = os.path.join(original_dataset_dir, fname)\r\n",
        "    dst = os.path.join(train_dir, fname)\r\n",
        "    shutil.copyfile(src, dst)\r\n",
        "\r\n",
        "fnames = ['rider-{}.jpg'.format(i) for i in range(68, 134)]\r\n",
        "for fname in fnames:\r\n",
        "    src = os.path.join(original_dataset_dir, fname)\r\n",
        "    dst = os.path.join(validation_dir, fname)\r\n",
        "    shutil.copyfile(src, dst)\r\n",
        "\r\n",
        "fnames = ['rider-{}.jpg'.format(i) for i in range(135, 203)]\r\n",
        "for fname in fnames:\r\n",
        "    src = os.path.join(original_dataset_dir, fname)\r\n",
        "    dst = os.path.join(test_dir, fname)\r\n",
        "    shutil.copyfile(src, dst)\r\n",
        "\r\n",
        "original_dataset_dir = '/content/data/horses'\r\n",
        "fnames = ['horse-{}.jpg'.format(i) for i in range(1, 67)]\r\n",
        "for fname in fnames:\r\n",
        "    src = os.path.join(original_dataset_dir, fname)\r\n",
        "    dst = os.path.join(train_dir, fname)\r\n",
        "    shutil.copyfile(src, dst)\r\n",
        "\r\n",
        "fnames = ['horse-{}.jpg'.format(i) for i in range(68, 134)]\r\n",
        "for fname in fnames:\r\n",
        "    src = os.path.join(original_dataset_dir, fname)\r\n",
        "    dst = os.path.join(validation_dir, fname)\r\n",
        "    shutil.copyfile(src, dst)\r\n",
        "\r\n",
        "fnames = ['horse-{}.jpg'.format(i) for i in range(135, 203)]\r\n",
        "for fname in fnames:\r\n",
        "    src = os.path.join(original_dataset_dir, fname)\r\n",
        "    dst = os.path.join(test_dir, fname)\r\n",
        "    shutil.copyfile(src, dst)"
      ],
      "execution_count": 6,
      "outputs": []
    },
    {
      "cell_type": "code",
      "metadata": {
        "id": "ib30G8uIdosQ"
      },
      "source": [
        "import cv2\r\n",
        "import numpy as np\r\n",
        "from random import shuffle\r\n",
        "\r\n",
        "IMG_SIZE = 224\r\n",
        "LR = 1e-4"
      ],
      "execution_count": 7,
      "outputs": []
    },
    {
      "cell_type": "code",
      "metadata": {
        "id": "ye2O3ezzdr-c"
      },
      "source": [
        "def label_img(img):\r\n",
        "    word_label = img.split('.')[0]\r\n",
        "    if word_label == 'dog': return 1\r\n",
        "    elif word_label == 'cat': return 0\r\n",
        "    else : \r\n",
        "      word_label = img.split('-')[0]\r\n",
        "      if word_label == 'horse': return 2\r\n",
        "      elif word_label == 'rider': return 3   "
      ],
      "execution_count": 8,
      "outputs": []
    },
    {
      "cell_type": "code",
      "metadata": {
        "id": "T5tDydm5hc_o"
      },
      "source": [
        "def test_label_img(img):\r\n",
        "    word_label = img.split('.')[0]\r\n",
        "    #print(word_label)\r\n",
        "    if word_label == 'dog': \r\n",
        "      print(\"DOG labeled\")\r\n",
        "      return 1\r\n",
        "    elif word_label == 'cat': \r\n",
        "      print(\"CAT labeled\")\r\n",
        "      return 0\r\n",
        "    else : \r\n",
        "      word_label = img.split('-')[0]\r\n",
        "      if word_label == 'horse': \r\n",
        "        print(\"HORSE labeled\")\r\n",
        "        return 2\r\n",
        "      elif word_label == 'rider': \r\n",
        "        print(\"HUMANS labeled\")\r\n",
        "        return 3   "
      ],
      "execution_count": 9,
      "outputs": []
    },
    {
      "cell_type": "code",
      "metadata": {
        "id": "4nSWKTHPgvoD"
      },
      "source": [
        "def createDataSplitSet(datapath):\r\n",
        "    X=[]\r\n",
        "    y=[]\r\n",
        "\r\n",
        "    for img in os.listdir(datapath):\r\n",
        "        label = label_img(img)\r\n",
        "        # print(label)\r\n",
        "        path = os.path.join(datapath, img)\r\n",
        "        image = cv2.resize(cv2.imread(path), (IMG_SIZE, IMG_SIZE))\r\n",
        "        image = cv2.normalize(image, None, alpha=0, beta=1, norm_type=cv2.NORM_MINMAX, dtype=cv2.CV_32F)\r\n",
        "\r\n",
        "        X.append(np.array(image))\r\n",
        "        y.append(label)\r\n",
        "\r\n",
        "    return np.array(X), np.array(y)"
      ],
      "execution_count": 10,
      "outputs": []
    },
    {
      "cell_type": "code",
      "metadata": {
        "id": "EFvVnBaZg71b"
      },
      "source": [
        "train_X, train_y = createDataSplitSet(train_dir)\r\n",
        "val_X, val_y = createDataSplitSet(validation_dir)\r\n",
        "test_X, test_y = createDataSplitSet(test_dir)"
      ],
      "execution_count": 20,
      "outputs": []
    },
    {
      "cell_type": "code",
      "metadata": {
        "colab": {
          "base_uri": "https://localhost:8080/"
        },
        "id": "vg5Kfq_Xo_4q",
        "outputId": "a5a3d21d-ea24-4dbc-b7c9-62e8ed26fcd5"
      },
      "source": [
        "#print(train_X[0, :, :, 0])"
      ],
      "execution_count": 25,
      "outputs": [
        {
          "output_type": "stream",
          "text": [
            "[[0.654902   0.6509804  0.64705884 ... 0.42352945 0.43529415 0.43529415]\n",
            " [0.654902   0.6509804  0.64705884 ... 0.427451   0.43921572 0.43921572]\n",
            " [0.654902   0.6509804  0.64705884 ... 0.427451   0.43529415 0.43529415]\n",
            " ...\n",
            " [0.20392159 0.20000002 0.20392159 ... 0.16078432 0.15294118 0.16078432]\n",
            " [0.19607845 0.19607845 0.20392159 ... 0.14901961 0.14117648 0.14509805]\n",
            " [0.19215688 0.19215688 0.20392159 ... 0.12941177 0.13333334 0.14117648]]\n"
          ],
          "name": "stdout"
        }
      ]
    },
    {
      "cell_type": "code",
      "metadata": {
        "colab": {
          "base_uri": "https://localhost:8080/"
        },
        "id": "tKmYd34rh2Wn",
        "outputId": "fe76e04a-eadc-4b1d-f0d3-74d7358764d6"
      },
      "source": [
        "test_label_img('dog.1.jpg')\r\n",
        "test_label_img('cat.15.jpg')\r\n",
        "test_label_img('horse-4.jpg')\r\n",
        "test_label_img('rider-17.jpg')"
      ],
      "execution_count": 12,
      "outputs": [
        {
          "output_type": "stream",
          "text": [
            "DOG labeled\n",
            "CAT labeled\n",
            "HORSE labeled\n",
            "HUMANS labeled\n"
          ],
          "name": "stdout"
        },
        {
          "output_type": "execute_result",
          "data": {
            "text/plain": [
              "3"
            ]
          },
          "metadata": {
            "tags": []
          },
          "execution_count": 12
        }
      ]
    },
    {
      "cell_type": "code",
      "metadata": {
        "id": "CJ-t1Ucrk2y2"
      },
      "source": [
        "## Xception\r\n",
        "from tensorflow.keras.applications import Xception\r\n",
        "from tensorflow.keras.layers import Dense, Input\r\n",
        "from tensorflow.keras import Model\r\n",
        "\r\n",
        "img_input = Input(shape=(IMG_SIZE, IMG_SIZE, 3))"
      ],
      "execution_count": 17,
      "outputs": []
    },
    {
      "cell_type": "code",
      "metadata": {
        "id": "9tI70yOolXaP"
      },
      "source": [
        "model = Xception(\r\n",
        "    include_top=True,\r\n",
        "    weights=\"imagenet\",\r\n",
        "    input_tensor=img_input,\r\n",
        "    input_shape=None,\r\n",
        "    pooling=None,\r\n",
        "    classes=1000,\r\n",
        "    classifier_activation=\"softmax\",\r\n",
        ")\r\n",
        "model.summary()"
      ],
      "execution_count": null,
      "outputs": []
    },
    {
      "cell_type": "code",
      "metadata": {
        "id": "8H-OpYHWlbtu"
      },
      "source": [
        "last_layer = model.get_layer('avg_pool').output\r\n",
        "out = Dense(4, activation='softmax', name='output')(last_layer)  ## 4 classes\r\n",
        "model = Model(img_input, out)\r\n",
        "\r\n",
        "for layer in model.layers[:-1]:\r\n",
        "\tlayer.trainable = False\r\n",
        "\r\n",
        "model.summary()"
      ],
      "execution_count": null,
      "outputs": []
    },
    {
      "cell_type": "code",
      "metadata": {
        "id": "ipeZV8eXlmVl"
      },
      "source": [
        "model.compile(loss='sparse_categorical_crossentropy',\r\n",
        "              optimizer='adam',\r\n",
        "              metrics=['acc'])"
      ],
      "execution_count": 40,
      "outputs": []
    },
    {
      "cell_type": "code",
      "metadata": {
        "id": "puiWIQT6l0k1"
      },
      "source": [
        "from tensorflow.keras.callbacks import EarlyStopping, ModelCheckpoint\r\n",
        "my_callbacks = [\r\n",
        "    EarlyStopping(monitor=\"val_loss\", patience=10, restore_best_weights=True),\r\n",
        "    ModelCheckpoint(filepath='Xception_model.h5', save_best_only=True),\r\n",
        "]"
      ],
      "execution_count": 41,
      "outputs": []
    },
    {
      "cell_type": "code",
      "metadata": {
        "colab": {
          "base_uri": "https://localhost:8080/"
        },
        "id": "z4nlJNi1l6Lu",
        "outputId": "3710c39a-065f-4a2b-8bdc-06615e6622f6"
      },
      "source": [
        "history = model.fit(train_X, train_y,\r\n",
        "                               batch_size=10,\r\n",
        "                               epochs=10, \r\n",
        "                               validation_data=(val_X, val_y),\r\n",
        "                               callbacks=my_callbacks)"
      ],
      "execution_count": 42,
      "outputs": [
        {
          "output_type": "stream",
          "text": [
            "Epoch 1/10\n",
            "27/27 [==============================] - 38s 129ms/step - loss: 0.9979 - acc: 0.6275 - val_loss: 0.2560 - val_acc: 0.9432\n",
            "Epoch 2/10\n",
            "27/27 [==============================] - 2s 84ms/step - loss: 0.2892 - acc: 0.9230 - val_loss: 0.1877 - val_acc: 0.9621\n",
            "Epoch 3/10\n",
            "27/27 [==============================] - 2s 84ms/step - loss: 0.1602 - acc: 0.9558 - val_loss: 0.1352 - val_acc: 0.9659\n",
            "Epoch 4/10\n",
            "27/27 [==============================] - 2s 85ms/step - loss: 0.1050 - acc: 0.9667 - val_loss: 0.1148 - val_acc: 0.9697\n",
            "Epoch 5/10\n",
            "27/27 [==============================] - 2s 84ms/step - loss: 0.0697 - acc: 0.9888 - val_loss: 0.1188 - val_acc: 0.9697\n",
            "Epoch 6/10\n",
            "27/27 [==============================] - 2s 85ms/step - loss: 0.0603 - acc: 1.0000 - val_loss: 0.1044 - val_acc: 0.9697\n",
            "Epoch 7/10\n",
            "27/27 [==============================] - 2s 85ms/step - loss: 0.0481 - acc: 1.0000 - val_loss: 0.1042 - val_acc: 0.9659\n",
            "Epoch 8/10\n",
            "27/27 [==============================] - 2s 86ms/step - loss: 0.0351 - acc: 1.0000 - val_loss: 0.0996 - val_acc: 0.9697\n",
            "Epoch 9/10\n",
            "27/27 [==============================] - 2s 86ms/step - loss: 0.0309 - acc: 1.0000 - val_loss: 0.0994 - val_acc: 0.9697\n",
            "Epoch 10/10\n",
            "27/27 [==============================] - 2s 86ms/step - loss: 0.0293 - acc: 1.0000 - val_loss: 0.0985 - val_acc: 0.9697\n"
          ],
          "name": "stdout"
        }
      ]
    },
    {
      "cell_type": "code",
      "metadata": {
        "colab": {
          "base_uri": "https://localhost:8080/",
          "height": 545
        },
        "id": "9uLWuyrXl85F",
        "outputId": "dbe7fa4a-1daa-4f68-d872-dc91efe0aad8"
      },
      "source": [
        "import matplotlib.pyplot as plt\r\n",
        "\r\n",
        "acc = history.history['acc']\r\n",
        "val_acc = history.history['val_acc']\r\n",
        "loss = history.history['loss']\r\n",
        "val_loss = history.history['val_loss']\r\n",
        "\r\n",
        "epochs = range(1, len(acc) + 1)\r\n",
        "\r\n",
        "plt.plot(epochs, acc, 'bo', label='Training acc')\r\n",
        "plt.plot(epochs, val_acc, 'b', label='Validation acc')\r\n",
        "plt.title('Training and validation accuracy')\r\n",
        "plt.legend()\r\n",
        "\r\n",
        "plt.figure()\r\n",
        "\r\n",
        "plt.plot(epochs, loss, 'bo', label='Training loss')\r\n",
        "plt.plot(epochs, val_loss, 'b', label='Validation loss')\r\n",
        "plt.title('Training and validation loss')\r\n",
        "plt.legend()\r\n",
        "\r\n",
        "plt.show()"
      ],
      "execution_count": 43,
      "outputs": [
        {
          "output_type": "display_data",
          "data": {
            "image/png": "[encoded data removed]",
            "text/plain": [
              "<Figure size 432x288 with 1 Axes>"
            ]
          },
          "metadata": {
            "tags": [],
            "needs_background": "light"
          }
        },
        {
          "output_type": "display_data",
          "data": {
            "image/png": "[encoded data removed]",
            "text/plain": [
              "<Figure size 432x288 with 1 Axes>"
            ]
          },
          "metadata": {
            "tags": [],
            "needs_background": "light"
          }
        }
      ]
    },
    {
      "cell_type": "code",
      "metadata": {
        "colab": {
          "base_uri": "https://localhost:8080/"
        },
        "id": "oRWwi96AyMYC",
        "outputId": "beab55c2-ae53-46c7-9f1b-bc76368facde"
      },
      "source": [
        "predictions"
      ],
      "execution_count": 53,
      "outputs": [
        {
          "output_type": "execute_result",
          "data": {
            "text/plain": [
              "array([[9.9898735e-04, 4.4890813e-04, 8.8122970e-01, 1.1732236e-01],\n",
              "       [1.2994029e-03, 1.9988057e-03, 2.9149191e-03, 9.9378693e-01],\n",
              "       [9.9700159e-01, 2.7986930e-03, 3.1694086e-05, 1.6797282e-04],\n",
              "       ...,\n",
              "       [5.5356603e-04, 5.4156128e-04, 1.3835522e-04, 9.9876654e-01],\n",
              "       [1.7086541e-02, 9.2048207e-03, 2.4124335e-03, 9.7129613e-01],\n",
              "       [1.6583150e-02, 4.1332386e-02, 4.5512315e-02, 8.9657217e-01]],\n",
              "      dtype=float32)"
            ]
          },
          "metadata": {
            "tags": []
          },
          "execution_count": 53
        }
      ]
    },
    {
      "cell_type": "code",
      "metadata": {
        "colab": {
          "base_uri": "https://localhost:8080/",
          "height": 374
        },
        "id": "jyK4hNQwl_h1",
        "outputId": "d3e299ea-a68d-40b5-9bf2-bbdb6ec8ea22"
      },
      "source": [
        "from sklearn.metrics import accuracy_score\r\n",
        "\r\n",
        "## Test Accuracy\r\n",
        "predictions = model.predict(test_X)\r\n",
        "ypred = predictions > 0.5\r\n",
        "test_acc = accuracy_score(test_y, ypred) #y_true，y_pred\r\n",
        "\r\n",
        "from sklearn.metrics import precision_recall_fscore_support, roc_auc_score\r\n",
        "\r\n",
        "precision, recall, f1score, _ = precision_recall_fscore_support(test_y, ypred, average='binary')\r\n",
        "\r\n",
        "auc = roc_auc_score(test_y, ypred)\r\n",
        "\r\n",
        "print(\"Train Accuracy:\\t\", acc[-1])\r\n",
        "print(\"Val Accuracy:\\t\", val_acc[-1])\r\n",
        "print(\"Test Accuracy:\\t\", test_acc)\r\n",
        "print(\"Precision:\\t\", precision)\r\n",
        "print(\"Recall:\\t\\t\", recall)\r\n",
        "print(\"F1 Score:\\t\", f1score)\r\n",
        "print(\"AUC:\\t\\t\", auc)"
      ],
      "execution_count": 46,
      "outputs": [
        {
          "output_type": "error",
          "ename": "ValueError",
          "evalue": "ignored",
          "traceback": [
            "\u001b[0;31m---------------------------------------------------------------------------\u001b[0m",
            "\u001b[0;31mValueError\u001b[0m                                Traceback (most recent call last)",
            "\u001b[0;32m<ipython-input-46-ffb0b35b2c60>\u001b[0m in \u001b[0;36m<module>\u001b[0;34m()\u001b[0m\n\u001b[1;32m      4\u001b[0m \u001b[0mpredictions\u001b[0m \u001b[0;34m=\u001b[0m \u001b[0mmodel\u001b[0m\u001b[0;34m.\u001b[0m\u001b[0mpredict\u001b[0m\u001b[0;34m(\u001b[0m\u001b[0mtest_X\u001b[0m\u001b[0;34m)\u001b[0m\u001b[0;34m\u001b[0m\u001b[0;34m\u001b[0m\u001b[0m\n\u001b[1;32m      5\u001b[0m \u001b[0mypred\u001b[0m \u001b[0;34m=\u001b[0m \u001b[0mpredictions\u001b[0m \u001b[0;34m>\u001b[0m \u001b[0;36m0.5\u001b[0m\u001b[0;34m\u001b[0m\u001b[0;34m\u001b[0m\u001b[0m\n\u001b[0;32m----> 6\u001b[0;31m \u001b[0mtest_acc\u001b[0m \u001b[0;34m=\u001b[0m \u001b[0maccuracy_score\u001b[0m\u001b[0;34m(\u001b[0m\u001b[0mtest_y\u001b[0m\u001b[0;34m,\u001b[0m \u001b[0mypred\u001b[0m\u001b[0;34m)\u001b[0m\u001b[0;34m\u001b[0m\u001b[0;34m\u001b[0m\u001b[0m\n\u001b[0m\u001b[1;32m      7\u001b[0m \u001b[0;34m\u001b[0m\u001b[0m\n\u001b[1;32m      8\u001b[0m \u001b[0;32mfrom\u001b[0m \u001b[0msklearn\u001b[0m\u001b[0;34m.\u001b[0m\u001b[0mmetrics\u001b[0m \u001b[0;32mimport\u001b[0m \u001b[0mprecision_recall_fscore_support\u001b[0m\u001b[0;34m,\u001b[0m \u001b[0mroc_auc_score\u001b[0m\u001b[0;34m\u001b[0m\u001b[0;34m\u001b[0m\u001b[0m\n",
            "\u001b[0;32m/usr/local/lib/python3.7/dist-packages/sklearn/metrics/_classification.py\u001b[0m in \u001b[0;36maccuracy_score\u001b[0;34m(y_true, y_pred, normalize, sample_weight)\u001b[0m\n\u001b[1;32m    183\u001b[0m \u001b[0;34m\u001b[0m\u001b[0m\n\u001b[1;32m    184\u001b[0m     \u001b[0;31m# Compute accuracy for each possible representation\u001b[0m\u001b[0;34m\u001b[0m\u001b[0;34m\u001b[0m\u001b[0;34m\u001b[0m\u001b[0m\n\u001b[0;32m--> 185\u001b[0;31m     \u001b[0my_type\u001b[0m\u001b[0;34m,\u001b[0m \u001b[0my_true\u001b[0m\u001b[0;34m,\u001b[0m \u001b[0my_pred\u001b[0m \u001b[0;34m=\u001b[0m \u001b[0m_check_targets\u001b[0m\u001b[0;34m(\u001b[0m\u001b[0my_true\u001b[0m\u001b[0;34m,\u001b[0m \u001b[0my_pred\u001b[0m\u001b[0;34m)\u001b[0m\u001b[0;34m\u001b[0m\u001b[0;34m\u001b[0m\u001b[0m\n\u001b[0m\u001b[1;32m    186\u001b[0m     \u001b[0mcheck_consistent_length\u001b[0m\u001b[0;34m(\u001b[0m\u001b[0my_true\u001b[0m\u001b[0;34m,\u001b[0m \u001b[0my_pred\u001b[0m\u001b[0;34m,\u001b[0m \u001b[0msample_weight\u001b[0m\u001b[0;34m)\u001b[0m\u001b[0;34m\u001b[0m\u001b[0;34m\u001b[0m\u001b[0m\n\u001b[1;32m    187\u001b[0m     \u001b[0;32mif\u001b[0m \u001b[0my_type\u001b[0m\u001b[0;34m.\u001b[0m\u001b[0mstartswith\u001b[0m\u001b[0;34m(\u001b[0m\u001b[0;34m'multilabel'\u001b[0m\u001b[0;34m)\u001b[0m\u001b[0;34m:\u001b[0m\u001b[0;34m\u001b[0m\u001b[0;34m\u001b[0m\u001b[0m\n",
            "\u001b[0;32m/usr/local/lib/python3.7/dist-packages/sklearn/metrics/_classification.py\u001b[0m in \u001b[0;36m_check_targets\u001b[0;34m(y_true, y_pred)\u001b[0m\n\u001b[1;32m     88\u001b[0m     \u001b[0;32mif\u001b[0m \u001b[0mlen\u001b[0m\u001b[0;34m(\u001b[0m\u001b[0my_type\u001b[0m\u001b[0;34m)\u001b[0m \u001b[0;34m>\u001b[0m \u001b[0;36m1\u001b[0m\u001b[0;34m:\u001b[0m\u001b[0;34m\u001b[0m\u001b[0;34m\u001b[0m\u001b[0m\n\u001b[1;32m     89\u001b[0m         raise ValueError(\"Classification metrics can't handle a mix of {0} \"\n\u001b[0;32m---> 90\u001b[0;31m                          \"and {1} targets\".format(type_true, type_pred))\n\u001b[0m\u001b[1;32m     91\u001b[0m \u001b[0;34m\u001b[0m\u001b[0m\n\u001b[1;32m     92\u001b[0m     \u001b[0;31m# We can't have more than one value on y_type => The set is no more needed\u001b[0m\u001b[0;34m\u001b[0m\u001b[0;34m\u001b[0m\u001b[0;34m\u001b[0m\u001b[0m\n",
            "\u001b[0;31mValueError\u001b[0m: Classification metrics can't handle a mix of multiclass and multilabel-indicator targets"
          ]
        }
      ]
    }
  ]
}